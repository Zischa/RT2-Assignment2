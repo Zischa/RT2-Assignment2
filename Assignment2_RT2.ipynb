{
 "cells": [
  {
   "cell_type": "code",
   "execution_count": 1,
   "id": "cd32c424",
   "metadata": {},
   "outputs": [],
   "source": [
    "%matplotlib widget\n",
    "import ipywidgets as widgets\n",
    "import numpy as np\n",
    "import matplotlib.pyplot as plt \n",
    "import jupyros as jr\n",
    "import rospy as rp\n",
    "import actionlib\n",
    "import actionlib.msg\n",
    "import assignment_2_2024.msg\n",
    "import math"
   ]
  },
  {
   "cell_type": "code",
   "execution_count": 2,
   "id": "e2d3091c",
   "metadata": {},
   "outputs": [],
   "source": [
    "from std_srvs.srv import SetBool\n",
    "from geometry_msgs.msg import Point, Pose, Twist\n",
    "from nav_msgs.msg import Odometry\n",
    "from actionlib_msgs.msg import GoalStatus\n",
    "from sensor_msgs.msg import LaserScan\n",
    "from matplotlib.animation import FuncAnimation\n",
    "from IPython.display import display\n",
    "from matplotlib.ticker import MaxNLocator"
   ]
  },
  {
   "cell_type": "code",
   "execution_count": 3,
   "id": "0d5c9f16",
   "metadata": {},
   "outputs": [],
   "source": [
    "if not rp.core.is_initialized():\n",
    "    rp.init_node(\"target_client\", anonymous=True)"
   ]
  },
  {
   "cell_type": "code",
   "execution_count": 4,
   "id": "1c7fc73a",
   "metadata": {},
   "outputs": [],
   "source": [
    "obstacle_distances = []\n",
    "x_data = []\n",
    "y_data = []\n",
    "target_setted = False"
   ]
  },
  {
   "cell_type": "code",
   "execution_count": 5,
   "id": "2c2fe496",
   "metadata": {},
   "outputs": [],
   "source": [
    "def init_anim():\n",
    "    ln_anim.set_data([], [])\n",
    "    return ln_anim,\n",
    "\n",
    "def update_anim(frame):\n",
    "    if len(x_data) > 0:\n",
    "        ln_anim.set_data(x_data, y_data)\n",
    "    return ln_anim,"
   ]
  },
  {
   "cell_type": "code",
   "execution_count": 6,
   "id": "5ffe2b44",
   "metadata": {},
   "outputs": [],
   "source": [
    "x_input = widgets.BoundedFloatText(description='Target X:', value=0.0, min=-8.0, max=8.0)\n",
    "y_input = widgets.BoundedFloatText(description='Target Y:', value=0.0, min=-8.0, max=10.0)\n",
    "\n",
    "send_button = widgets.Button(description='Send Goal')\n",
    "cancel_button = widgets.Button(description='Cancel Goal')\n",
    "show_result_button = widgets.Button(description='Show Goal Results')\n",
    "distance_display_button = widgets.Button(description='Show Obastacle Distance')\n",
    "\n",
    "distance_text = widgets.FloatText(description=\"Distance (m):\", disabled=True)\n",
    "output = widgets.Output()\n",
    "output2 = widgets.Output()\n",
    "out = widgets.Output(layout={'border': '1px solid black'})"
   ]
  },
  {
   "cell_type": "code",
   "execution_count": 7,
   "id": "4f56413c",
   "metadata": {},
   "outputs": [],
   "source": [
    "def odom_callback(msg): \n",
    "    global x_data, y_data\n",
    "    y_data.append(msg.pose.pose.position.y) \n",
    "    x_data.append(msg.pose.pose.position.x)\n",
    "def calculate_obs_distance(msg):\n",
    "    global obstacle_distances\n",
    "    valid_ranges = [r for r in msg.ranges if not np.isnan(r) and r > 0]\n",
    "    if valid_ranges:\n",
    "        closest = min(valid_ranges)\n",
    "        obstacle_distances.append(closest)\n",
    "def plot_goal_results(counts):\n",
    "    labels = ['Reached', 'Not Reached']\n",
    "    values = [counts['reached'], counts['not_reached']]\n",
    "    colors = ['green', 'red']\n",
    "    \n",
    "    fig_result, ax_result = plt.subplots()\n",
    "    ax_result.bar(labels, values, color=colors)\n",
    "    ax_result.set_title(\"Reached vs Not-Reached Targets\")\n",
    "    ax_result.set_ylabel(\"Count\")\n",
    "    \n",
    "    ax_result.yaxis.set_major_locator(MaxNLocator(integer=True))\n",
    "    plt.show()"
   ]
  },
  {
   "cell_type": "code",
   "execution_count": 8,
   "id": "9b1238ef",
   "metadata": {},
   "outputs": [],
   "source": [
    "def on_send_clicked(b):\n",
    "    global target_setted\n",
    "    with output:\n",
    "        output.clear_output()\n",
    "        goal_handler.set_goal(x_input.value, y_input.value)\n",
    "    with out:\n",
    "        print(\"New Goal has been sended\")\n",
    "        target_setted = True\n",
    "def on_cancel_clicked(b):\n",
    "    global target_setted\n",
    "    with output:\n",
    "        output.clear_output()\n",
    "        goal_handler.cancel_goal()\n",
    "    with out:\n",
    "        if target_setted:\n",
    "            print(\"A goal has been deleted\")\n",
    "            target_setted = False\n",
    "        else:\n",
    "            print(\"There's no goal to delete\")\n",
    "def on_distance_button_clicked(b):\n",
    "    if obstacle_distances:\n",
    "        distance_text.value = round(obstacle_distances[-1], 2)\n",
    "    else:\n",
    "        distance_text.value = -1\n",
    "def on_show_result_clicked(b):\n",
    "    with output2:\n",
    "        output2.clear_output()\n",
    "        plot_goal_results(goal_handler.goal_counts)\n"
   ]
  },
  {
   "cell_type": "code",
   "execution_count": 9,
   "id": "7013776a",
   "metadata": {},
   "outputs": [],
   "source": [
    "class GoalHandler:\n",
    "    def __init__(self):\n",
    "        self.remove_target = True\n",
    "        self.goal_counts = {\"reached\": 0, \"not_reached\": 0}\n",
    "        \n",
    "        self.client = actionlib.SimpleActionClient(\"/reaching_goal\", assignment_2_2024.msg.PlanningAction)\n",
    "        self.client.wait_for_server()\n",
    "        self.send_done_cb = self.done_callback\n",
    "\n",
    "        jr.subscribe('/odom', Odometry, odom_callback)\n",
    "        jr.subscribe(\"/scan\", LaserScan, calculate_obs_distance)\n",
    "\n",
    "    def set_goal(self, x, y):\n",
    "        if not self.remove_target:\n",
    "            self.client.cancel_goal()\n",
    "            self.goal_counts[\"not_reached\"] += 1\n",
    "            rp.loginfo(\"Previous goal was overwritten.\")\n",
    "\n",
    "        goal = assignment_2_2024.msg.PlanningGoal()\n",
    "        goal.target_pose.pose.position.x = x\n",
    "        goal.target_pose.pose.position.y = y\n",
    "\n",
    "        rp.set_param(\"/des_pos_x\", x)\n",
    "        rp.set_param(\"/des_pos_y\", y)\n",
    "\n",
    "        self.client.send_goal(goal, done_cb=self.send_done_cb)\n",
    "        self.remove_target = False\n",
    "        print(\"A new goal has been set\")\n",
    "        \n",
    "    def cancel_goal(self):\n",
    "            if not self.remove_target:\n",
    "                self.client.cancel_goal()\n",
    "                self.remove_target = True\n",
    "                rp.loginfo(\"Goal canceled\")\n",
    "            else:\n",
    "                rp.logwarn(\"There's no goal to delete\")\n",
    "\n",
    "    def done_callback(self, status, result):\n",
    "        if status == GoalStatus.SUCCEEDED:\n",
    "            self.goal_counts[\"reached\"] += 1\n",
    "        else:\n",
    "            self.goal_counts[\"not_reached\"] += 1"
   ]
  },
  {
   "cell_type": "code",
   "execution_count": 10,
   "id": "4b63b74d",
   "metadata": {},
   "outputs": [],
   "source": [
    "goal_handler = GoalHandler()"
   ]
  },
  {
   "cell_type": "code",
   "execution_count": 11,
   "id": "3a8dcd14",
   "metadata": {},
   "outputs": [],
   "source": [
    "send_button.on_click(on_send_clicked)\n",
    "cancel_button.on_click(on_cancel_clicked)\n",
    "distance_display_button.on_click(on_distance_button_clicked)\n",
    "show_result_button.on_click(on_show_result_clicked)"
   ]
  },
  {
   "cell_type": "code",
   "execution_count": 12,
   "id": "442b8ffe",
   "metadata": {},
   "outputs": [
    {
     "data": {
      "application/vnd.jupyter.widget-view+json": {
       "model_id": "706a43d6af34451daeaeab7dce9e5b8e",
       "version_major": 2,
       "version_minor": 0
      },
      "text/plain": [
       "HBox(children=(BoundedFloatText(value=0.0, description='Target X:', max=8.0, min=-8.0), BoundedFloatText(value…"
      ]
     },
     "metadata": {},
     "output_type": "display_data"
    },
    {
     "data": {
      "application/vnd.jupyter.widget-view+json": {
       "model_id": "c39a1b0abf684378ac65157b357063ec",
       "version_major": 2,
       "version_minor": 0
      },
      "text/plain": [
       "HBox(children=(Button(description='Send Goal', style=ButtonStyle()), Button(description='Cancel Goal', style=B…"
      ]
     },
     "metadata": {},
     "output_type": "display_data"
    },
    {
     "data": {
      "application/vnd.jupyter.widget-view+json": {
       "model_id": "e9db2d873c5043a79d46af9fb8863534",
       "version_major": 2,
       "version_minor": 0
      },
      "text/plain": [
       "HBox(children=(Button(description='Show Obastacle Distance', style=ButtonStyle()), FloatText(value=0.0, descri…"
      ]
     },
     "metadata": {},
     "output_type": "display_data"
    },
    {
     "data": {
      "application/vnd.jupyter.widget-view+json": {
       "model_id": "cddc965ba9d4460889fdb615ba12d23c",
       "version_major": 2,
       "version_minor": 0
      },
      "text/plain": [
       "Button(description='Show Goal Results', style=ButtonStyle())"
      ]
     },
     "metadata": {},
     "output_type": "display_data"
    },
    {
     "data": {
      "application/vnd.jupyter.widget-view+json": {
       "model_id": "19f3fbcf4284425092d61a6efcb7e82f",
       "version_major": 2,
       "version_minor": 0
      },
      "text/plain": [
       "Output()"
      ]
     },
     "metadata": {},
     "output_type": "display_data"
    },
    {
     "data": {
      "application/vnd.jupyter.widget-view+json": {
       "model_id": "2335549ed2a54782a6673f4c74b1bddc",
       "version_major": 2,
       "version_minor": 0
      },
      "text/plain": [
       "Output()"
      ]
     },
     "metadata": {},
     "output_type": "display_data"
    },
    {
     "data": {
      "application/vnd.jupyter.widget-view+json": {
       "model_id": "b106c414a6ff4749bf0ee394a8489fbc",
       "version_major": 2,
       "version_minor": 0
      },
      "text/plain": [
       "Output(layout=Layout(border='1px solid black'))"
      ]
     },
     "metadata": {},
     "output_type": "display_data"
    }
   ],
   "source": [
    "display(widgets.HBox([x_input, y_input]))\n",
    "display(widgets.HBox([send_button, cancel_button, ]))\n",
    "display(widgets. HBox([distance_display_button, distance_text]))\n",
    "display(show_result_button)\n",
    "display(output)\n",
    "display(output2)\n",
    "out"
   ]
  },
  {
   "cell_type": "code",
   "execution_count": 13,
   "id": "fbef8661",
   "metadata": {},
   "outputs": [
    {
     "data": {
      "application/vnd.jupyter.widget-view+json": {
       "model_id": "2592ee92684a4607b3310508d65074a6",
       "version_major": 2,
       "version_minor": 0
      },
      "text/plain": [
       "Output()"
      ]
     },
     "metadata": {},
     "output_type": "display_data"
    }
   ],
   "source": [
    "xdata_anim = []\n",
    "ydata_anim = []\n",
    "\n",
    "path_output = widgets.Output()\n",
    "display(path_output)\n",
    "\n",
    "with path_output:\n",
    "    fig_anim, ax_anim = plt.subplots()\n",
    "    ln_anim, = ax_anim.plot([], [], 'ro-')\n",
    "    ax_anim.set_xlim((-10, 10))\n",
    "    ax_anim.set_ylim((-10, 10))\n",
    "    ax_anim.set_title(\"Robot Path\")\n",
    "    ax_anim.set_xlabel(\"x\")\n",
    "    ax_anim.set_ylabel(\"y\")"
   ]
  },
  {
   "cell_type": "code",
   "execution_count": 14,
   "id": "d0a81051",
   "metadata": {},
   "outputs": [],
   "source": [
    "ani = FuncAnimation(fig_anim, update_anim, init_func=init_anim,\n",
    "                    interval=500, blit=True)"
   ]
  }
 ],
 "metadata": {
  "kernelspec": {
   "display_name": "Python 3 (ipykernel)",
   "language": "python",
   "name": "python3"
  },
  "language_info": {
   "codemirror_mode": {
    "name": "ipython",
    "version": 3
   },
   "file_extension": ".py",
   "mimetype": "text/x-python",
   "name": "python",
   "nbconvert_exporter": "python",
   "pygments_lexer": "ipython3",
   "version": "3.8.5"
  }
 },
 "nbformat": 4,
 "nbformat_minor": 5
}
